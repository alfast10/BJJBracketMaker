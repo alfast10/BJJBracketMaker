{
 "cells": [
  {
   "cell_type": "code",
   "execution_count": 9,
   "id": "initial_id",
   "metadata": {
    "collapsed": true,
    "ExecuteTime": {
     "end_time": "2023-11-06T20:11:50.967276Z",
     "start_time": "2023-11-06T20:11:50.901976Z"
    }
   },
   "outputs": [],
   "source": [
    "import pandas as pd\n",
    "from itertools import combinations\n",
    "import random\n",
    "\n",
    "# Read the data from the input CSV file\n",
    "data = pd.read_csv('Female_White.csv')\n",
    "\n",
    "# Group competitors by school\n",
    "competitors_by_school = {}\n",
    "for _, row in data.iterrows():\n",
    "    if row['School'] not in competitors_by_school:\n",
    "        competitors_by_school[row['School']] = []\n",
    "    competitors_by_school[row['School']].append((row['Name'], row['School']))\n",
    "\n",
    "# Shuffle the order of competitors within each school to randomize matches\n",
    "for school, competitors in competitors_by_school.items():\n",
    "    random.shuffle(competitors)\n",
    "\n",
    "# Generate match pairings\n",
    "matches = []\n",
    "competitors_list = list(data['Name'])  # List of all competitors\n",
    "remaining_matches = {competitor: 2 for competitor in competitors_list}  # Dict to track remaining matches for each competitor\n",
    "\n",
    "for competitor in competitors_list:\n",
    "    school = data.loc[data['Name'] == competitor, 'School'].values[0]\n",
    "    other_competitors = [c for c in competitors_list if c != competitor and data.loc[data['Name'] == c, 'School'].values[0] != school]\n",
    "    random.shuffle(other_competitors)\n",
    "\n",
    "    matches_count = 0\n",
    "    for opponent in other_competitors:\n",
    "        if remaining_matches[competitor] > 0 and remaining_matches[opponent] > 0 and matches_count < 2:\n",
    "            matches.append((f\"{competitor} ({school})\", f\"{opponent} ({data.loc[data['Name'] == opponent, 'School'].values[0]})\"))\n",
    "            remaining_matches[competitor] -= 1\n",
    "            remaining_matches[opponent] -= 1\n",
    "            matches_count += 1\n",
    "\n",
    "# Randomize the order of matches|\n",
    "random.shuffle(matches)\n",
    "random.shuffle(matches)\n",
    "random.shuffle(matches)\n",
    "\n",
    "\n",
    "matches_df = pd.DataFrame(matches, columns=['Competitor 1', 'Competitor 2'])\n",
    "\n",
    "# Save the matches to a new CSV file\n",
    "matches_df.to_csv('Female_White_Matches.csv', index=False)\n"
   ]
  },
  {
   "cell_type": "code",
   "execution_count": 3,
   "outputs": [],
   "source": [],
   "metadata": {
    "collapsed": false,
    "ExecuteTime": {
     "end_time": "2023-11-06T19:31:18.427254Z",
     "start_time": "2023-11-06T19:31:18.409877Z"
    }
   },
   "id": "4a4bc8380fa5345"
  },
  {
   "cell_type": "code",
   "execution_count": null,
   "outputs": [],
   "source": [],
   "metadata": {
    "collapsed": false
   },
   "id": "15f79f814e829a6a"
  }
 ],
 "metadata": {
  "kernelspec": {
   "display_name": "Python 3",
   "language": "python",
   "name": "python3"
  },
  "language_info": {
   "codemirror_mode": {
    "name": "ipython",
    "version": 2
   },
   "file_extension": ".py",
   "mimetype": "text/x-python",
   "name": "python",
   "nbconvert_exporter": "python",
   "pygments_lexer": "ipython2",
   "version": "2.7.6"
  }
 },
 "nbformat": 4,
 "nbformat_minor": 5
}
